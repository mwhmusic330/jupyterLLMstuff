{
 "cells": [
  {
   "cell_type": "code",
   "execution_count": 14,
   "id": "dbbf51b7-aebc-46ea-aa6d-67b5898ff420",
   "metadata": {},
   "outputs": [
    {
     "name": "stdout",
     "output_type": "stream",
     "text": [
      "Note: you may need to restart the kernel to use updated packages.\n"
     ]
    }
   ],
   "source": [
    "# Requires transformers>=4.29.0 and huggingface_hub>=0.14.1\n",
    "%pip install --upgrade --quiet langchain langchain-huggingface transformers[torch] huggingface_hub > /dev/null"
   ]
  },
  {
   "cell_type": "code",
   "execution_count": 2,
   "id": "6e339434-4ade-43ff-baf5-498ce30a7d2c",
   "metadata": {},
   "outputs": [],
   "source": [
    "from langchain_huggingface import ChatHuggingFace, HuggingFacePipeline, HuggingFaceEndpoint\n",
    "import getpass, os"
   ]
  },
  {
   "cell_type": "code",
   "execution_count": 3,
   "id": "9ba09a86-cfda-4862-b958-e24246e809c3",
   "metadata": {},
   "outputs": [],
   "source": [
    "with open('/home/michael/hugginfacestuff/token2', 'r') as f: \n",
    "    apikey = f.read().strip()\n",
    "if not apikey:\n",
    "    with open('/home/michael/hugginfacestuff/token2', 'w') as f:\n",
    "        apikey = getpass.getpass(\n",
    "            \"Enter your Hugging Face API key: \"\n",
    "        )\n",
    "        f.write(apikey)\n",
    "       \n",
    "os.environ[\"HUGGINGFACEHUB_API_TOKEN\"] = apikey"
   ]
  },
  {
   "cell_type": "code",
   "execution_count": 4,
   "id": "913035dd-e709-4aa2-8f03-e5f1719f6803",
   "metadata": {},
   "outputs": [],
   "source": [
    "llm = HuggingFaceEndpoint(\n",
    "    repo_id=\"HuggingFaceH4/zephyr-7b-beta\",\n",
    "    task=\"text-generation\",\n",
    "    max_new_tokens=512,\n",
    "    do_sample=False,\n",
    "    repetition_penalty=1.03,\n",
    ")\n",
    "\n",
    "chat_model = ChatHuggingFace(llm=llm)"
   ]
  },
  {
   "cell_type": "code",
   "execution_count": 7,
   "id": "ae94b998-0937-4839-b66f-280a10976e7b",
   "metadata": {},
   "outputs": [],
   "source": [
    "from langchain_core.messages import (\n",
    "    HumanMessage,\n",
    "    SystemMessage,\n",
    ")\n",
    "\n",
    "messages = [\n",
    "    SystemMessage(content=\"You're a helpful assistant\"),\n",
    "    HumanMessage(\n",
    "        content=\"What country is the city of Jakarta in?\"\n",
    "    ),\n",
    "]\n",
    "\n",
    "ai_msg = chat_model.invoke(messages)"
   ]
  },
  {
   "cell_type": "code",
   "execution_count": 8,
   "id": "0a0601ed-732b-4803-a54b-44dfdbdf1f27",
   "metadata": {},
   "outputs": [
    {
     "name": "stdout",
     "output_type": "stream",
     "text": [
      "Jakarta is the capital city of Indonesia. So, Jakarta is in Indonesia.\n"
     ]
    }
   ],
   "source": [
    "print(ai_msg.content)"
   ]
  }
 ],
 "metadata": {
  "kernelspec": {
   "display_name": "Python 3 (ipykernel)",
   "language": "python",
   "name": "python3"
  },
  "language_info": {
   "codemirror_mode": {
    "name": "ipython",
    "version": 3
   },
   "file_extension": ".py",
   "mimetype": "text/x-python",
   "name": "python",
   "nbconvert_exporter": "python",
   "pygments_lexer": "ipython3",
   "version": "3.10.12"
  }
 },
 "nbformat": 4,
 "nbformat_minor": 5
}
